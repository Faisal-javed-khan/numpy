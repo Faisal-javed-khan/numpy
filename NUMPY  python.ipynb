{
 "cells": [
  {
   "cell_type": "code",
   "execution_count": 2,
   "id": "b8aaaf96",
   "metadata": {},
   "outputs": [
    {
     "data": {
      "text/plain": [
       "array([1, 2, 3, 3, 4])"
      ]
     },
     "execution_count": 2,
     "metadata": {},
     "output_type": "execute_result"
    }
   ],
   "source": [
    "##single array\n",
    "import numpy as np\n",
    "a=[1,2,3,3,4]\n",
    "arr=np.array(a)\n",
    "arr"
   ]
  },
  {
   "cell_type": "code",
   "execution_count": null,
   "id": "37849453",
   "metadata": {},
   "outputs": [],
   "source": []
  },
  {
   "cell_type": "code",
   "execution_count": 1,
   "id": "ed842fc8",
   "metadata": {
    "scrolled": true
   },
   "outputs": [
    {
     "name": "stdout",
     "output_type": "stream",
     "text": [
      "enter size of array4\n",
      "enter value2\n",
      "enter value3\n",
      "enter value4\n",
      "enter value5\n"
     ]
    },
    {
     "data": {
      "text/plain": [
       "array(['2', '3', '4', '5'], dtype='<U1')"
      ]
     },
     "execution_count": 1,
     "metadata": {},
     "output_type": "execute_result"
    }
   ],
   "source": [
    "##input from users \n",
    "import numpy as np\n",
    "a=[]\n",
    "n=int(input(\"enter size of array\"))\n",
    "for i in range(n):\n",
    "    val=input(\"enter value\")\n",
    "    a.append(val)\n",
    "arr=np.array(a)\n",
    "arr"
   ]
  },
  {
   "cell_type": "code",
   "execution_count": null,
   "id": "2999e0f7",
   "metadata": {},
   "outputs": [],
   "source": []
  },
  {
   "cell_type": "code",
   "execution_count": 8,
   "id": "13b2519d",
   "metadata": {},
   "outputs": [
    {
     "data": {
      "text/plain": [
       "array([[1, 2, 3],\n",
       "       [4, 5, 6]])"
      ]
     },
     "execution_count": 8,
     "metadata": {},
     "output_type": "execute_result"
    }
   ],
   "source": [
    "import numpy as np\n",
    "a=[[1,2,3], [4,5,6]]\n",
    "arr=np.array(a)\n",
    "arr"
   ]
  },
  {
   "cell_type": "code",
   "execution_count": 9,
   "id": "441f4a41",
   "metadata": {},
   "outputs": [
    {
     "data": {
      "text/plain": [
       "array([[1, 2, 3],\n",
       "       [4, 4, 6],\n",
       "       [6, 4, 3]])"
      ]
     },
     "execution_count": 9,
     "metadata": {},
     "output_type": "execute_result"
    }
   ],
   "source": [
    "import numpy as np\n",
    "a=[[1,2,3],[4,4,6],[6,4,3]]\n",
    "arr=np.array(a)\n",
    "arr\n"
   ]
  },
  {
   "cell_type": "code",
   "execution_count": 46,
   "id": "26e63f34",
   "metadata": {},
   "outputs": [
    {
     "name": "stdout",
     "output_type": "stream",
     "text": [
      "3\n",
      "3\n",
      "4\n",
      "1\n",
      "2nd element of 2nd row= 3\n",
      "2nd element of 2nd row= 4\n"
     ]
    }
   ],
   "source": [
    "import numpy as np\n",
    "a=np.array([1,2,3])\n",
    "b=np.array([[1,2,3],[2,3,4]])\n",
    "c=np.array([[[1,2,3],[1,2,3],[3,4,5]]])\n",
    "d=np.array([[[[1,2,3],[1,2,3],[3,4,5],[2,3,4]]]])\n",
    "print(c.ndim)\n",
    "print(c.ndim)\n",
    "print(d.ndim)\n",
    "print(a[0]) ##show element access\n",
    "print(\"2nd element of 2nd row=\",b[1,1])\n",
    "\n",
    "print(\"2nd element of 2nd row=\" ,c[0,2,1])\n",
    "\n"
   ]
  },
  {
   "cell_type": "code",
   "execution_count": 51,
   "id": "9131ec1c",
   "metadata": {},
   "outputs": [
    {
     "name": "stdout",
     "output_type": "stream",
     "text": [
      "[3 3 4]\n",
      "[3 4]\n"
     ]
    }
   ],
   "source": [
    "import numpy as np\n",
    "a=[1,2,3,3,4,5,6,7]\n",
    "arr=np.array(a)\n",
    "print(arr[2:5])\n",
    "print(arr[2:6:2]) #step is 2"
   ]
  },
  {
   "cell_type": "code",
   "execution_count": 2,
   "id": "b931606e",
   "metadata": {},
   "outputs": [
    {
     "name": "stdout",
     "output_type": "stream",
     "text": [
      "<U5\n",
      "int32\n"
     ]
    }
   ],
   "source": [
    "\n",
    "import numpy as np\n",
    "a=np.array([1,2,3,4,5])\n",
    "b=np.array(['ali', 'hil', 'haaal'])\n",
    "print(b.dtype)\n",
    "print(a.dtype)"
   ]
  },
  {
   "cell_type": "code",
   "execution_count": 6,
   "id": "bd87a77c",
   "metadata": {},
   "outputs": [
    {
     "name": "stdout",
     "output_type": "stream",
     "text": [
      "<U11\n",
      "[1 3 5]\n",
      "['1.2' '3.4' '5.5']\n",
      "[1.2 3.4 5.5]\n"
     ]
    }
   ],
   "source": [
    "import numpy as np\n",
    "a=[1.2 , 3.4 , 5.5]\n",
    "b=np.array([1,2 ,\"ali \", 4])\n",
    "print(b.dtype)\n",
    "\n",
    "arr=np.array(a)\n",
    "print(arr.astype('i')) #it will convert from float to integer\n",
    "print(arr.astype('str'))\n",
    "print(arr.astype('float'))\n"
   ]
  },
  {
   "cell_type": "code",
   "execution_count": 7,
   "id": "6abf0c77",
   "metadata": {},
   "outputs": [
    {
     "name": "stdout",
     "output_type": "stream",
     "text": [
      "[ 1  2 23  4  5  6]\n",
      "[1, 2, 3, 4, 5, 6]\n"
     ]
    }
   ],
   "source": [
    "  ##copy array doest not efeect on the orignal one and changes in orignal dosnot effect on the copy one\n",
    "import numpy as np \n",
    "a=[1,2,3,4,5,6]\n",
    "arr=np.array(a)\n",
    "x=a.copy()\n",
    "arr[2]=23\n",
    "print(arr)\n",
    "print(x)"
   ]
  },
  {
   "cell_type": "code",
   "execution_count": 9,
   "id": "03530500",
   "metadata": {},
   "outputs": [
    {
     "name": "stdout",
     "output_type": "stream",
     "text": [
      "[1 2 3 4 5 6 6]\n",
      "[1 2 3 4 5 6 6]\n",
      "[ 1  2 44  4  5  6  6]\n",
      "[ 1  2 44  4  5  6  6]\n"
     ]
    }
   ],
   "source": [
    "#view will efect on orignl and orignal ffct on view array\n",
    "import numpy as np\n",
    "a=np.array([1,2,3,4,5,6,6])\n",
    "x=a.view()\n",
    "print(a)\n",
    "print(x)\n",
    "a[2]=44\n",
    "print(x)\n",
    "print(a)"
   ]
  },
  {
   "cell_type": "code",
   "execution_count": 14,
   "id": "c95c1dd5",
   "metadata": {},
   "outputs": [
    {
     "data": {
      "text/plain": [
       "(1, 1, 1, 1, 7)"
      ]
     },
     "execution_count": 14,
     "metadata": {},
     "output_type": "execute_result"
    }
   ],
   "source": [
    "import numpy as np \n",
    "a=np.array([1,2,3,4,5,6,7], ndmin=5)\n",
    "a.ndim\n",
    "a.shape\n",
    "\n"
   ]
  },
  {
   "cell_type": "code",
   "execution_count": 23,
   "id": "98e9615b",
   "metadata": {},
   "outputs": [
    {
     "name": "stdout",
     "output_type": "stream",
     "text": [
      "[[1 2]\n",
      " [3 4]\n",
      " [5 6]\n",
      " [7 6]]\n"
     ]
    }
   ],
   "source": [
    "#reshaping an array from dimension to dimension\n",
    "import numpy as np\n",
    "a=np.array([1,2,3,4,5,6,7,6])\n",
    "print(a.reshape(4 ,2))"
   ]
  },
  {
   "cell_type": "code",
   "execution_count": 27,
   "id": "57cb3914",
   "metadata": {},
   "outputs": [
    {
     "name": "stdout",
     "output_type": "stream",
     "text": [
      "[[[1 2]\n",
      "  [3 4]\n",
      "  [5 6]]\n",
      "\n",
      " [[7 8]\n",
      "  [9 3]\n",
      "  [4 5]]]\n"
     ]
    }
   ],
   "source": [
    "#he outermost dimension will have #2 arrays that contains #3 arrays, each with #2 elements\n",
    "import numpy as np\n",
    "a=np.array([1,2,3,4,5,6,7,8,9,3,4,5])\n",
    "print(a.reshape(2 , 3,2))"
   ]
  },
  {
   "cell_type": "code",
   "execution_count": 2,
   "id": "85880067",
   "metadata": {},
   "outputs": [
    {
     "name": "stdout",
     "output_type": "stream",
     "text": [
      "[[[1]\n",
      "  [2]\n",
      "  [3]]\n",
      "\n",
      " [[4]\n",
      "  [5]\n",
      "  [5]]\n",
      "\n",
      " [[6]\n",
      "  [7]\n",
      "  [1]]]\n"
     ]
    }
   ],
   "source": [
    "import numpy as np\n",
    "a=np.array([1,2,3,4,5,5,6,7,1])\n",
    "print(a.reshape(3,3 ,-2))"
   ]
  },
  {
   "cell_type": "code",
   "execution_count": 35,
   "id": "aee95f55",
   "metadata": {},
   "outputs": [
    {
     "name": "stdout",
     "output_type": "stream",
     "text": [
      "[1 2 3 4 4 5 5]\n",
      "[1 2 3 4 4 5 5]\n",
      "[1 2 3 4 4 5 5]\n",
      "[1 2 3 4 4 5 5]\n",
      "[1 2 3 4 4 5 5]\n",
      "[1 2 3 4 4 5 5]\n",
      "[1 2 3 4 4 5 5]\n",
      "[1 2]\n",
      "[2 4]\n"
     ]
    }
   ],
   "source": [
    "import numpy as np\n",
    "a=np.array([1,2,3,4,4,5,5])\n",
    "b=np.array([[1,2],[2,4]])\n",
    "for x in a:\n",
    "    print(a)\n",
    "    \n",
    "for w in b:\n",
    "    print(w)"
   ]
  },
  {
   "cell_type": "code",
   "execution_count": 40,
   "id": "052f7026",
   "metadata": {},
   "outputs": [
    {
     "name": "stdout",
     "output_type": "stream",
     "text": [
      "1\n",
      "2\n",
      "3\n",
      "4\n",
      "5\n",
      "6\n",
      "7\n",
      "8\n"
     ]
    }
   ],
   "source": [
    "import numpy as np\n",
    "a=np.array([1,2,3,4,5,6,7,8])\n",
    "for  x in np.nditer(a):\n",
    "    print(x )"
   ]
  },
  {
   "cell_type": "code",
   "execution_count": 1,
   "id": "f47f5d06",
   "metadata": {},
   "outputs": [
    {
     "name": "stdout",
     "output_type": "stream",
     "text": [
      "(0, 0) 1\n",
      "(0, 1) 2\n",
      "(1, 0) 3\n",
      "(1, 1) 4\n"
     ]
    }
   ],
   "source": [
    "import numpy as n\n",
    "a=n.array([[1,2],[3,4]])\n",
    "for i, x in n.ndenumerate(a):\n",
    "    print(i , x)"
   ]
  },
  {
   "cell_type": "code",
   "execution_count": 48,
   "id": "1123d82b",
   "metadata": {},
   "outputs": [
    {
     "name": "stdout",
     "output_type": "stream",
     "text": [
      "['ali' '1' '2' '3' '5' '6' '7' '8' '9']\n"
     ]
    }
   ],
   "source": [
    "import numpy as np \n",
    "a1=np.array([\"ali\" , 1,2,3,5])\n",
    "a2=np.array([6,7,8,9])\n",
    "arr=np.concatenate((a1 ,a2))\n",
    "print(arr)"
   ]
  },
  {
   "cell_type": "code",
   "execution_count": 51,
   "id": "376d5f8d",
   "metadata": {},
   "outputs": [
    {
     "data": {
      "text/plain": [
       "array([[1, 2, 5, 6],\n",
       "       [3, 4, 7, 8]])"
      ]
     },
     "execution_count": 51,
     "metadata": {},
     "output_type": "execute_result"
    }
   ],
   "source": [
    "import numpy as np\n",
    "ar1=np.array([[1,2],[3,4]])\n",
    "a2=np.array([[5,6],[7,8]])\n",
    "arr=np.concatenate((ar1 ,a2) , axis=1) #if u dnt wana in row u can skip axis \n",
    "arr\n"
   ]
  },
  {
   "cell_type": "code",
   "execution_count": 3,
   "id": "23f3b59a",
   "metadata": {},
   "outputs": [
    {
     "name": "stdout",
     "output_type": "stream",
     "text": [
      "result horizantal :  [1 2 3 9 5 3]\n",
      "vertical  [[1 9]\n",
      " [2 5]\n",
      " [3 3]]\n",
      "[[1 2 3]\n",
      " [9 5 3]]\n"
     ]
    }
   ],
   "source": [
    "import  numpy as np\n",
    "a=np.array([1,2,3])\n",
    "b=np.array([9,5,3])\n",
    "arr1=np.stack((a,b) , axis=1)\n",
    "arr=np.hstack((a,b)) #horizantaal \n",
    "arr2=np.vstack((a,b)) #vertical\n",
    "print(\"result horizantal : \" , arr)\n",
    "print(\"vertical \" , arr1)\n",
    "print(arr2)"
   ]
  },
  {
   "cell_type": "code",
   "execution_count": null,
   "id": "b1018c55",
   "metadata": {},
   "outputs": [],
   "source": []
  },
  {
   "cell_type": "code",
   "execution_count": 27,
   "id": "43e64d07",
   "metadata": {},
   "outputs": [
    {
     "name": "stdout",
     "output_type": "stream",
     "text": [
      "[array([[1, 9],\n",
      "       [2, 5]]), array([[3, 3]])]\n"
     ]
    }
   ],
   "source": [
    "import numpy as np\n",
    "a=np.array([1,2,3,6,7,8])\n",
    "arr=np.array_split(arr1 ,2)\n",
    "print(arr)"
   ]
  },
  {
   "cell_type": "code",
   "execution_count": 28,
   "id": "727f772f",
   "metadata": {},
   "outputs": [
    {
     "name": "stdout",
     "output_type": "stream",
     "text": [
      "[array([[1, 9]]), array([[2, 5]]), array([[3, 3]]), array([], shape=(0, 2), dtype=int32)]\n"
     ]
    }
   ],
   "source": [
    "import numpy as np\n",
    "ar=np.array([1,2,3,4,5,6])\n",
    "arr=np.array_split(arr1 , 4)\n",
    "print(arr)"
   ]
  },
  {
   "cell_type": "code",
   "execution_count": 6,
   "id": "f43bc94e",
   "metadata": {},
   "outputs": [
    {
     "name": "stdout",
     "output_type": "stream",
     "text": [
      "[1 2 4 6]\n",
      "['ali' 'basit' 'faisal' 'zahoor' 'zeroo']\n",
      "[1 1 2 3 6 6 9]\n"
     ]
    }
   ],
   "source": [
    "import numpy as np\n",
    "arr=np.array([2,4,6,1])\n",
    "arr2=np.array([3,2,9,6,1,6,1])\n",
    "arr3=np.array(['ali' , 'zahoor', 'faisal','zeroo', 'basit']) #sort  1 dimension array\n",
    "print(np.sort(arr))\n",
    "print(np.sort(arr3))\n",
    "print(np.sort(arr2))"
   ]
  },
  {
   "cell_type": "code",
   "execution_count": 7,
   "id": "6eb3c9ca",
   "metadata": {},
   "outputs": [
    {
     "name": "stdout",
     "output_type": "stream",
     "text": [
      "[[1 2 4]\n",
      " [3 4 6]]\n"
     ]
    }
   ],
   "source": [
    "import numpy as np\n",
    "arr=np.array([[2,4,1],[4,3,6]])   # 2dimension array sort\n",
    "print(np.sort(arr))"
   ]
  },
  {
   "cell_type": "code",
   "execution_count": 9,
   "id": "e261f34e",
   "metadata": {},
   "outputs": [
    {
     "name": "stdout",
     "output_type": "stream",
     "text": [
      "[['ali' 'rar' 'zaho']\n",
      " ['ale' 'basit' 'kli']]\n"
     ]
    }
   ],
   "source": [
    "import numpy as np\n",
    "arr=np.array([['ali', 'zaho' , 'rar'], ['ale' , 'kli' , 'basit']])\n",
    "print(np.sort(arr))"
   ]
  },
  {
   "cell_type": "code",
   "execution_count": 25,
   "id": "be54976e",
   "metadata": {},
   "outputs": [
    {
     "name": "stdout",
     "output_type": "stream",
     "text": [
      "[2 4]\n"
     ]
    }
   ],
   "source": [
    "import numpy as np\n",
    "arr=np.array([2,3,4,5])\n",
    "x=[True, False, True, False]\n",
    "print(arr[x])\n"
   ]
  },
  {
   "cell_type": "code",
   "execution_count": 20,
   "id": "d33e4b10",
   "metadata": {},
   "outputs": [
    {
     "name": "stdout",
     "output_type": "stream",
     "text": [
      "[1 2 2 3 3 3]\n"
     ]
    }
   ],
   "source": [
    "import numpy as np\n",
    "arr=np.array([1,2,2,3,3,3])\n",
    "print(arr)"
   ]
  },
  {
   "cell_type": "code",
   "execution_count": 23,
   "id": "53528905",
   "metadata": {},
   "outputs": [
    {
     "name": "stdout",
     "output_type": "stream",
     "text": [
      "[55 43 47 44]\n"
     ]
    }
   ],
   "source": [
    "import numpy as np\n",
    "arr=np.array([20 ,30 ,55, 43,23,47,44])\n",
    "emp=[]\n",
    "for element in arr:\n",
    "    if element>40:\n",
    "        emp.append(True)               #this is simple program for filter  of an array \n",
    "    else:\n",
    "        emp.append(False)\n",
    "new=arr[emp]      \n",
    "print(new)        "
   ]
  },
  {
   "cell_type": "code",
   "execution_count": 37,
   "id": "ebbb22be",
   "metadata": {},
   "outputs": [],
   "source": [
    "#RANDOM NUMBER PSEDU RANDOM ALGORITHM\n",
    "\n",
    "\n",
    "\n",
    "\n",
    "\n",
    "\n",
    "#it will produce a random number at each run "
   ]
  },
  {
   "cell_type": "code",
   "execution_count": 36,
   "id": "9a546e30",
   "metadata": {},
   "outputs": [
    {
     "name": "stdout",
     "output_type": "stream",
     "text": [
      "22\n"
     ]
    }
   ],
   "source": [
    "from numpy import random as randi\n",
    "print(randi.randint(100))"
   ]
  },
  {
   "cell_type": "code",
   "execution_count": 49,
   "id": "7fba2f10",
   "metadata": {},
   "outputs": [
    {
     "name": "stdout",
     "output_type": "stream",
     "text": [
      "0.45207410087190447\n",
      "[0.97001442 0.42782405]\n"
     ]
    }
   ],
   "source": [
    "from numpy import random\n",
    "x=random.rand()\n",
    "y=random.rand(2)\n",
    "print(x)\n",
    "print(y)"
   ]
  },
  {
   "cell_type": "code",
   "execution_count": 53,
   "id": "14fcb2d7",
   "metadata": {},
   "outputs": [
    {
     "name": "stdout",
     "output_type": "stream",
     "text": [
      "[ 5 76 26 27 12]\n",
      "[15 16 23  5 23 15 16  0 21 19]\n"
     ]
    }
   ],
   "source": [
    "#Generate Random Array\n",
    "\n",
    "from numpy import random as randi\n",
    "x=random.randint(100 , size=(5))\n",
    "y=randi.randint(30,size=(10))\n",
    "print(x)\n",
    "print(y)"
   ]
  },
  {
   "cell_type": "code",
   "execution_count": 54,
   "id": "f86e7dc7",
   "metadata": {},
   "outputs": [
    {
     "name": "stdout",
     "output_type": "stream",
     "text": [
      "[[47  6 73 78]\n",
      " [90 79 54 34]\n",
      " [19  2 81 73]]\n"
     ]
    }
   ],
   "source": [
    "from numpy import random\n",
    "x=random.randint(100 , size=(3 , 4))   #genrate 3row with 4 elements 2 dimension\n",
    "print(x)"
   ]
  },
  {
   "cell_type": "code",
   "execution_count": 55,
   "id": "fce0963d",
   "metadata": {},
   "outputs": [
    {
     "name": "stdout",
     "output_type": "stream",
     "text": [
      "[[0.43281937 0.15334414 0.83240429 0.45063815]\n",
      " [0.49386867 0.58798527 0.25440219 0.28019903]]\n"
     ]
    }
   ],
   "source": [
    "from numpy import random\n",
    "x=random.rand(2,4)\n",
    "print(x)   #float array 2 dim"
   ]
  },
  {
   "cell_type": "code",
   "execution_count": 91,
   "id": "babc46ad",
   "metadata": {},
   "outputs": [
    {
     "data": {
      "text/plain": [
       "5"
      ]
     },
     "execution_count": 91,
     "metadata": {},
     "output_type": "execute_result"
    }
   ],
   "source": [
    "#choice is a value selected from the array which are already created \n",
    "from numpy import random \n",
    "x=random.choice([2,3,4,5,6,7])\n",
    "x"
   ]
  },
  {
   "cell_type": "code",
   "execution_count": 95,
   "id": "cfd6a4fd",
   "metadata": {},
   "outputs": [
    {
     "data": {
      "text/plain": [
       "array([[3, 1, 2, 1, 1],\n",
       "       [3, 2, 1, 1, 3]])"
      ]
     },
     "execution_count": 95,
     "metadata": {},
     "output_type": "execute_result"
    }
   ],
   "source": [
    "from numpy  import random\n",
    "x=random.choice([1,2,3], size=(2 , 5)) # 2 show number of array and the 5 showing how many elemnt will in a array\n",
    "x"
   ]
  },
  {
   "cell_type": "code",
   "execution_count": 17,
   "id": "290f6e50",
   "metadata": {},
   "outputs": [
    {
     "data": {
      "text/plain": [
       "array([5, 5, 2, 4, 2, 4, 2, 4, 3, 4])"
      ]
     },
     "execution_count": 17,
     "metadata": {},
     "output_type": "execute_result"
    }
   ],
   "source": [
    "from numpy import random             #The sum of all probability numbers should be 1 the sum of prob is not to 1 sumition of p <=1.0\n",
    "x=random.choice(a=[1,2,3,4,5], p=[0.1 ,0.2,0.3,0.1,0.3], size=(10))   #a array is orignal array while p is the prob of a array which element havee many prob to outcome in array size is 10 mau exceed\n",
    "x"
   ]
  },
  {
   "cell_type": "code",
   "execution_count": 24,
   "id": "ffa6c79a",
   "metadata": {},
   "outputs": [
    {
     "data": {
      "text/plain": [
       "array([2, 4, 5, 3, 1])"
      ]
     },
     "execution_count": 24,
     "metadata": {},
     "output_type": "execute_result"
    }
   ],
   "source": [
    "from numpy import random \n",
    "import numpy as np\n",
    "arr=np.array([1,2,3,4,5])\n",
    "random.shuffle(arr) # shuffle emelent in a array \n",
    "arr"
   ]
  },
  {
   "cell_type": "code",
   "execution_count": 35,
   "id": "8d751a0f",
   "metadata": {},
   "outputs": [
    {
     "name": "stdout",
     "output_type": "stream",
     "text": [
      "[2 3 7 5 6]\n",
      "[7 2 5 6 3]\n"
     ]
    }
   ],
   "source": [
    "from numpy import random \n",
    "import numpy as np\n",
    "arr=np.array([2,3,7,5,6])\n",
    "\n",
    "random.permutation(arr)\n",
    "print(arr) \n",
    "print(random.permutation(arr)) # it will remain unchanged the orignal one "
   ]
  },
  {
   "cell_type": "code",
   "execution_count": 49,
   "id": "a93f81f2",
   "metadata": {},
   "outputs": [
    {
     "name": "stdout",
     "output_type": "stream",
     "text": [
      "[[4.6369389  1.70987411 1.02513102]\n",
      " [1.27673475 1.14084641 2.10394167]]\n"
     ]
    },
    {
     "data": {
      "text/plain": [
       "array([[-1.08618197, -1.4322746 , -0.31063018],\n",
       "       [ 0.49548556, -0.65022671,  1.35144865]])"
      ]
     },
     "execution_count": 49,
     "metadata": {},
     "output_type": "execute_result"
    }
   ],
   "source": [
    "from numpy import random\n",
    "x=random.normal(size=(2, 3))\n",
    "y=random.normal(loc=1, scale=2 , size=(2,3))  #normal distribution is impt to data have three perametrs loc =mean \n",
    "print(y)                                      #scale =standered devaition    size row and lementb\n",
    "x"
   ]
  },
  {
   "cell_type": "code",
   "execution_count": 58,
   "id": "f2f0cc2e",
   "metadata": {},
   "outputs": [
    {
     "name": "stderr",
     "output_type": "stream",
     "text": [
      "C:\\Users\\faisal javed\\anaconda3\\lib\\site-packages\\seaborn\\distributions.py:2619: FutureWarning: `distplot` is a deprecated function and will be removed in a future version. Please adapt your code to use either `displot` (a figure-level function with similar flexibility) or `histplot` (an axes-level function for histograms).\n",
      "  warnings.warn(msg, FutureWarning)\n"
     ]
    },
    {
     "data": {
      "image/png": "[encoded data removed]",
      "text/plain": [
       "<Figure size 432x288 with 1 Axes>"
      ]
     },
     "metadata": {
      "needs_background": "light"
     },
     "output_type": "display_data"
    }
   ],
   "source": [
    "from numpy import random\n",
    "import matplotlib.pyplot as plt\n",
    "import seaborn as sns\n",
    "\n",
    "sns.distplot(random.normal(size=10), hist=True)\n",
    "\n",
    "plt.show()"
   ]
  },
  {
   "cell_type": "code",
   "execution_count": 67,
   "id": "67d1594e",
   "metadata": {},
   "outputs": [
    {
     "name": "stderr",
     "output_type": "stream",
     "text": [
      "C:\\Users\\faisal javed\\anaconda3\\lib\\site-packages\\seaborn\\distributions.py:2619: FutureWarning: `distplot` is a deprecated function and will be removed in a future version. Please adapt your code to use either `displot` (a figure-level function with similar flexibility) or `histplot` (an axes-level function for histograms).\n",
      "  warnings.warn(msg, FutureWarning)\n"
     ]
    },
    {
     "data": {
      "image/png": "[encoded data removed]",
      "text/plain": [
       "<Figure size 432x288 with 1 Axes>"
      ]
     },
     "metadata": {
      "needs_background": "light"
     },
     "output_type": "display_data"
    }
   ],
   "source": [
    "from numpy import random\n",
    "import matplotlib.pyplot as plt\n",
    "import seaborn as sn\n",
    "sn.distplot(random.normal(size=20))\n",
    "plt.show()"
   ]
  },
  {
   "cell_type": "code",
   "execution_count": 63,
   "id": "3ea045bc",
   "metadata": {},
   "outputs": [
    {
     "name": "stdout",
     "output_type": "stream",
     "text": [
      "3.5.1\n"
     ]
    }
   ],
   "source": [
    "import matplotlib\n",
    "print(matplotlib.__version__)"
   ]
  },
  {
   "cell_type": "code",
   "execution_count": 72,
   "id": "7cf43647",
   "metadata": {},
   "outputs": [
    {
     "data": {
      "image/png": "[encoded data removed]",
      "text/plain": [
       "<Figure size 432x288 with 1 Axes>"
      ]
     },
     "metadata": {
      "needs_background": "light"
     },
     "output_type": "display_data"
    }
   ],
   "source": [
    "import matplotlib.pyplot as plt\n",
    "\n",
    "import numpy as np\n",
    "xpoint=np.array([1 ,40])\n",
    "ypoint=np.array([0 ,100])   #marker use for show point u may put * _ etc your choice\n",
    "plt.plot(xpoint , ypoint , marker='o')\n",
    "plt.show()"
   ]
  },
  {
   "cell_type": "code",
   "execution_count": 83,
   "id": "0b805660",
   "metadata": {},
   "outputs": [
    {
     "data": {
      "image/png": "[encoded data removed]",
      "text/plain": [
       "<Figure size 432x288 with 1 Axes>"
      ]
     },
     "metadata": {
      "needs_background": "light"
     },
     "output_type": "display_data"
    }
   ],
   "source": [
    " import matplotlib.pyplot as plt\n",
    "import numpy as np\n",
    "ypoint=np.array([2,3,6,8]) \n",
    "r=np.array([4,3,6,7])\n",
    "\n",
    "plt.plot(ypoint  , marker='*' , ls='dotted' , color='green'   , linewidth='20')  #ls or linestyle  use for show style of a line dotted or dashed etc dashedot\n",
    "\n",
    "plt.plot(r)\n",
    "plt.show()                                             #color will be show lne of a line #23hjhd etc  "
   ]
  },
  {
   "cell_type": "code",
   "execution_count": 7,
   "id": "92f4fbe3",
   "metadata": {},
   "outputs": [
    {
     "data": {
      "text/plain": [
       "array([3, 2, 2, 2, 2])"
      ]
     },
     "execution_count": 7,
     "metadata": {},
     "output_type": "execute_result"
    }
   ],
   "source": [
    "from numpy import random\n",
    "x=random.binomial(n=5 , p=0.5 , size=5) # it will genrate discrete distribution like coin toss its prob is 0.5 on each side\n",
    "x                                     # n =number trail  p= is prob     size = array size "
   ]
  },
  {
   "cell_type": "code",
   "execution_count": 50,
   "id": "ec845b62",
   "metadata": {},
   "outputs": [
    {
     "name": "stderr",
     "output_type": "stream",
     "text": [
      "C:\\Users\\faisal javed\\anaconda3\\lib\\site-packages\\seaborn\\distributions.py:2619: FutureWarning: `distplot` is a deprecated function and will be removed in a future version. Please adapt your code to use either `displot` (a figure-level function with similar flexibility) or `kdeplot` (an axes-level function for kernel density plots).\n",
      "  warnings.warn(msg, FutureWarning)\n"
     ]
    },
    {
     "data": {
      "image/png": "[encoded data removed]",
      "text/plain": [
       "<Figure size 432x288 with 1 Axes>"
      ]
     },
     "metadata": {
      "needs_background": "light"
     },
     "output_type": "display_data"
    },
    {
     "data": {
      "image/png": "[encoded data removed]",
      "text/plain": [
       "<Figure size 360x360 with 1 Axes>"
      ]
     },
     "metadata": {
      "needs_background": "light"
     },
     "output_type": "display_data"
    }
   ],
   "source": [
    "import matplotlib.pyplot as plt\n",
    "import numpy as np\n",
    "import seaborn as sn\n",
    "sn.distplot(np.random.binomial(n=10, p=0.1 , size=300) , hist=False , color='red' , label='temp') \n",
    "sn.displot(np.random.normal(loc=10 , scale=5 , size=1000), color='green' )\n",
    "plt.show()\n",
    "\n"
   ]
  },
  {
   "cell_type": "code",
   "execution_count": 65,
   "id": "64218a26",
   "metadata": {},
   "outputs": [
    {
     "name": "stderr",
     "output_type": "stream",
     "text": [
      "C:\\Users\\faisal javed\\anaconda3\\lib\\site-packages\\seaborn\\distributions.py:2619: FutureWarning: `distplot` is a deprecated function and will be removed in a future version. Please adapt your code to use either `displot` (a figure-level function with similar flexibility) or `histplot` (an axes-level function for histograms).\n",
      "  warnings.warn(msg, FutureWarning)\n"
     ]
    },
    {
     "data": {
      "image/png": "[encoded data removed]",
      "text/plain": [
       "<Figure size 432x288 with 1 Axes>"
      ]
     },
     "metadata": {
      "needs_background": "light"
     },
     "output_type": "display_data"
    }
   ],
   "source": [
    "from numpy import random\n",
    "import matplotlib.pyplot as plt\n",
    "import seaborn as sn\n",
    "sn.distplot(random.poisson(lam=10 , size=1011))  \n",
    "# Poisson Distribution is a Discrete Distribution.\n",
    "\n",
    "# It estimates how many times an event can happen in a specified time. e.g. If someone eats twice a day what is probability he will eat thrice?\n",
    "\n",
    "\n",
    "plt.show()"
   ]
  },
  {
   "cell_type": "code",
   "execution_count": 4,
   "id": "f58fe756",
   "metadata": {},
   "outputs": [
    {
     "name": "stderr",
     "output_type": "stream",
     "text": [
      "C:\\Users\\faisal javed\\anaconda3\\lib\\site-packages\\seaborn\\distributions.py:2619: FutureWarning: `distplot` is a deprecated function and will be removed in a future version. Please adapt your code to use either `displot` (a figure-level function with similar flexibility) or `histplot` (an axes-level function for histograms).\n",
      "  warnings.warn(msg, FutureWarning)\n"
     ]
    },
    {
     "data": {
      "image/png": "[encoded data removed]",
      "text/plain": [
       "<Figure size 432x288 with 1 Axes>"
      ]
     },
     "metadata": {
      "needs_background": "light"
     },
     "output_type": "display_data"
    },
    {
     "name": "stdout",
     "output_type": "stream",
     "text": [
      "[[0.44090452 0.78618429 0.90010213 0.70346379]\n",
      " [0.64934206 0.65005002 0.91294609 0.46247752]]\n"
     ]
    }
   ],
   "source": [
    "# Used to describe probability where every event has equal chances of occuring.\n",
    "# E.g. Generation of random numbers.\n",
    "# It has three parameters:\n",
    "# a - lower bound - default 0 .0.\n",
    "# b - upper bound - default 1.0.\n",
    "# size - The shape of the returned array.\n",
    "\n",
    "import numpy as np \n",
    "from numpy import random \n",
    "import seaborn as sn \n",
    "import matplotlib.pyplot as plt\n",
    "x=random.uniform(size=(2,4))\n",
    "sn.distplot(x )\n",
    "plt.show()\n",
    "print(x)"
   ]
  },
  {
   "cell_type": "code",
   "execution_count": 7,
   "id": "6ba696fa",
   "metadata": {},
   "outputs": [
    {
     "name": "stderr",
     "output_type": "stream",
     "text": [
      "C:\\Users\\faisal javed\\anaconda3\\lib\\site-packages\\seaborn\\distributions.py:2619: FutureWarning: `distplot` is a deprecated function and will be removed in a future version. Please adapt your code to use either `displot` (a figure-level function with similar flexibility) or `histplot` (an axes-level function for histograms).\n",
      "  warnings.warn(msg, FutureWarning)\n"
     ]
    },
    {
     "data": {
      "image/png": "[encoded data removed]",
      "text/plain": [
       "<Figure size 432x288 with 1 Axes>"
      ]
     },
     "metadata": {
      "needs_background": "light"
     },
     "output_type": "display_data"
    }
   ],
   "source": [
    "# Logistic Distribution is used to describe growth.\n",
    "\n",
    "# Used extensively in machine learning in logistic regression, neural networks etc.\n",
    "\n",
    "# It has three parameters:\n",
    "\n",
    "# loc - mean, where the peak is. Default 0.\n",
    "\n",
    "# scale - standard deviation, the flatness of distribution. Default 1.\n",
    "\n",
    "# # size - The shape of the returned array.\n",
    "import numpy as np\n",
    "import matplotlib.pyplot as pl\n",
    "import seaborn as sns\n",
    "sns.distplot(np.random.logistic(loc=2 , scale=3 ,size=(1000)))\n",
    "pl.show()"
   ]
  },
  {
   "cell_type": "code",
   "execution_count": 13,
   "id": "2766dec8",
   "metadata": {},
   "outputs": [
    {
     "name": "stdout",
     "output_type": "stream",
     "text": [
      "[1 1 1 2 1 0]\n"
     ]
    }
   ],
   "source": [
    "# Multinomial distribution is a generalization of binomial distribution.\n",
    "# n - number of possible outcomes (e.g. 6 for dice roll).\n",
    "\n",
    "# pvals - list of probabilties of outcomes (e.g. [1/6, 1/6, 1/6, 1/6, 1/6, 1/6] for dice roll).\n",
    "\n",
    "# size - The shape of the returned array.\n",
    "from numpy import random\n",
    "\n",
    "x = random.multinomial(n=6, pvals=[1/6, 1/6, 1/6, 1/6, 1/6, 1/6])\n",
    "\n",
    "print(x)\n"
   ]
  },
  {
   "cell_type": "code",
   "execution_count": null,
   "id": "9364b24d",
   "metadata": {},
   "outputs": [],
   "source": [
    "# ufuncs stands for \"Universal Functions\" and they are NumPy functions that operates on the ndarray obj"
   ]
  },
  {
   "cell_type": "code",
   "execution_count": 20,
   "id": "3939ddbd",
   "metadata": {},
   "outputs": [
    {
     "name": "stdout",
     "output_type": "stream",
     "text": [
      "add with python [6, 5, 8, 9, 11]\n",
      "add with numpy [ 6  5  8  9 11]\n"
     ]
    }
   ],
   "source": [
    "import  numpy as np\n",
    "x=[2,3,4,4,5]\n",
    "y=[4,2,4,5,6]\n",
    "#old way use in python\n",
    "z=[]\n",
    "for i , j in zip(x, y):\n",
    "    z.append(i+j)\n",
    "print(\"add with python\",z)\n",
    "#but inn python numpy labirary is easy to add these list \n",
    "z=np.add(x , y)\n",
    "print(\"add with numpy\"  , z)"
   ]
  },
  {
   "cell_type": "code",
   "execution_count": 25,
   "id": "eac8d726",
   "metadata": {},
   "outputs": [
    {
     "name": "stdout",
     "output_type": "stream",
     "text": [
      "[4 6 8 10]\n",
      "[7 10 5]\n"
     ]
    }
   ],
   "source": [
    "# The frompyfunc() method takes the following arguments:\n",
    "# function - the name of the function.\n",
    "# inputs - the number of input arguments (arrays).\n",
    "# outputs - the number of output arrays.\n",
    "import numpy as np\n",
    "def addftn(x , y):\n",
    "    return x+y\n",
    "myfunc=np.frompyfunc(addftn , 2 , 1)  # argument show funcname and 2 is how many arrys input in perameters and 1 show the output will show in only  one in arrays\n",
    "print(myfunc([2,3,4,5],[2,3,4,5]))\n",
    "print(myfunc([4,3,2],[3,7,3]))\n"
   ]
  },
  {
   "cell_type": "code",
   "execution_count": 29,
   "id": "9cb95b42",
   "metadata": {},
   "outputs": [
    {
     "name": "stdout",
     "output_type": "stream",
     "text": [
      "[5 5 5]\n"
     ]
    }
   ],
   "source": [
    "import numpy as np\n",
    "def sub(x, y):\n",
    "    return x+y\n",
    "addition=np.frompyfunc(sub , 2,1)\n",
    "print(addition([2,3,4],[3,2,1]))"
   ]
  },
  {
   "cell_type": "code",
   "execution_count": 54,
   "id": "ea923b47",
   "metadata": {},
   "outputs": [
    {
     "name": "stdout",
     "output_type": "stream",
     "text": [
      "addition= [ 5 35 69  7  8 58 35]\n",
      "substraction= [ -3 -31 -63   1   2  52  31]\n",
      "mulptiplication = [  4  66 198  12  15 165  66]\n",
      "divide = [ 0.25        0.06060606  0.04545455  1.33333333  1.66666667 18.33333333\n",
      " 16.5       ]\n",
      "power os array= [       4     1089   287496       81      243 98514891        0]\n",
      "mode will return reminder = [1 2 3 1 2 1 1]\n",
      "same result as modd \\ will return reminder = [1 2 3 1 2 1 1]\n",
      "duotion and mod= (array([ 0,  0,  0,  1,  1, 18, 16], dtype=int32), array([1, 2, 3, 1, 2, 1, 1], dtype=int32))\n",
      "absolte array= [2 2 4 6 5]\n"
     ]
    }
   ],
   "source": [
    "import numpy as np\n",
    "arr1=[1,2,3,4,5,55,33]\n",
    "arr2=[4,33,66,3,3,3,2]\n",
    "rew=np.add(arr1, arr2)\n",
    "rew1=np.subtract(arr1 , arr2)\n",
    "rew2=np.multiply(arr1 , arr2)\n",
    "rew3=np.divide(arr1 ,arr2)\n",
    "rew4=np.power(arr2 , arr1)\n",
    "# Both the mod() and the remainder() functions return the remainder of the values in the first array corresponding to the values in the second array, and return the results in a new array.\n",
    "#1%4) and so  on\n",
    "rew5a=np.mod(arr1 , arr2)\n",
    "rew5b=np.remainder(arr1 , arr2)\n",
    "print(\"addition=\" , rew)\n",
    "print(\"substraction=\" , rew1)\n",
    "print(\"mulptiplication =\", rew2)\n",
    "print(\"divide =\", rew3)\n",
    "print(\"power os array=\" , rew4)\n",
    "print(\"mode will return reminder =\" , rew5a )\n",
    "print(\"same result as modd \\\\ will return reminder =\" , rew5b )\n",
    "\n",
    "# The divmod() function return both the quotient and the the mod. The return value is two arrays, the first array contains the quotient and second array contains the mod.\n",
    "\n",
    "#it will two arrays one have quotient and anothet have mode\n",
    "rew6=np.divmod(arr1 , arr2)\n",
    "print(\"duotion and mod=\" , rew6)\n",
    "#absolute is remove the negative sign from number \n",
    "arr4=[-2 , 2 , -4 , -6 , -5 ]\n",
    "rew8=np.absolute(arr4)\n",
    "print(\"absolte array=\" , rew8)"
   ]
  },
  {
   "cell_type": "code",
   "execution_count": 65,
   "id": "1f28f4de",
   "metadata": {},
   "outputs": [
    {
     "name": "stdout",
     "output_type": "stream",
     "text": [
      "[ 3. -2.]\n",
      "with around = [3.88 2.19]\n",
      "floor result lowest term= [ 3. -5.  4. -2.]\n",
      "ceil result highest term= [ 4. -4.  5. -1.]\n",
      "[-3.  3.]\n"
     ]
    }
   ],
   "source": [
    "# Remove the decimals, and return the float number closest to zero. Use the trunc() and fix() functions.\n",
    "\n",
    "import numpy as np\n",
    "arr=np.trunc([3.672637378, -2.387268723876487])\n",
    "print(arr)\n",
    "# Same example, using fix():\n",
    "\n",
    "\n",
    "arr = np.fix([-3.1666, 3.6667])\n",
    "arr1=np.around([3.87678, 2.18632],2) ## here 2 is represent the value of decimal no after point show like 3.22 etc\n",
    "print('with around =' , arr1)\n",
    "arr2=np.floor([3.4534 , -4.027 , 4.842 , -1.34728])\n",
    "print(\"floor result lowest term=\" , arr2)\n",
    "\n",
    "\n",
    "arr3=np.ceil([3.4534 , -4.027 , 4.842 , -1.34728])\n",
    "print(\"ceil result highest term=\" , arr3)\n",
    "\n",
    "print(arr) "
   ]
  },
  {
   "cell_type": "code",
   "execution_count": 8,
   "id": "aadbd691",
   "metadata": {},
   "outputs": [
    {
     "name": "stdout",
     "output_type": "stream",
     "text": [
      "with arange value log base 2====  [0.         1.         1.5849625  2.         2.32192809 2.5849625\n",
      " 2.80735492 3.         3.169925  ]\n",
      "with arange value log base 2====  [1.         1.5849625  2.         2.32192809]\n",
      "log base 10 =====     [0.30103    0.47712125 0.60205999 0.69897    0.77815125 0.84509804\n",
      " 0.90308999 0.95424251 1.        ]\n"
     ]
    }
   ],
   "source": [
    "import numpy as np\n",
    "arr=np.array([2,3,4,5]) #this array will convert to log base 2 value\n",
    "#lets try another array and another way arange mean to give two value and find from 1 to 10 not include last number  array\n",
    "arr2=np.arange(1,10)\n",
    "print(\"with arange value log base 2==== \" , np.log2(arr2))\n",
    "print(\"with arange value log base 2==== \" ,np.log2(arr))\n",
    "\n",
    "#now lets talk about the log base 10 so same as we did with the log base 2 \n",
    "b=np.arange(2,11)\n",
    "print(\"log base 10 =====    \" ,np.log10(b))\n"
   ]
  },
  {
   "cell_type": "code",
   "execution_count": 12,
   "id": "52bf4d2d",
   "metadata": {},
   "outputs": [
    {
     "name": "stdout",
     "output_type": "stream",
     "text": [
      "2.0\n"
     ]
    }
   ],
   "source": [
    "import numpy as np\n",
    "from math import log\n",
    "login=np.frompyfunc(log , 2 , 1)\n",
    "print(login(100 , 10)) #log input will two arguement one which element u find log and another is the base of log like 2 , 10 very common\n",
    "# but this is inbiult function np we can find now any base of log so its look easy now"
   ]
  },
  {
   "cell_type": "code",
   "execution_count": 26,
   "id": "a06723aa",
   "metadata": {},
   "outputs": [
    {
     "name": "stdout",
     "output_type": "stream",
     "text": [
      "wwe can seperate the result of bth arrays [9 9]\n",
      "18\n"
     ]
    }
   ],
   "source": [
    "import numpy as np\n",
    "import math\n",
    "arr2=np.array([2,3,4])\n",
    "arr1=np.array([2,3,4])   #suumition is to add all elements in array and then add both array we  can also use axis to seperate the result of both\n",
    "#like this \n",
    "print(\"wwe can seperate the result of bth arrays\" ,np.sum([arr2 , arr1] , axis=1))\n",
    "print(np.sum([arr2 , arr1]))"
   ]
  },
  {
   "cell_type": "code",
   "execution_count": 27,
   "id": "bee5aea3",
   "metadata": {},
   "outputs": [
    {
     "name": "stdout",
     "output_type": "stream",
     "text": [
      "[1 3 6]\n"
     ]
    }
   ],
   "source": [
    "import numpy as np\n",
    "import math \n",
    "arr=np.array([1,2,3])\n",
    "print(np.cumsum(arr))    #it will add array partialy array  cummulative summition  (1, 1+2 , 1+2+3 , 1+2+3+4) itwill add like this \n"
   ]
  },
  {
   "cell_type": "code",
   "execution_count": 10,
   "id": "21805f8b",
   "metadata": {},
   "outputs": [
    {
     "name": "stdout",
     "output_type": "stream",
     "text": [
      "24\n",
      "two array product like this 1*2*3*4*4*3*1*2= 576\n",
      "two array product like this 1*2*3*4= 4*3*1*2 both sperate value=  [24 24]\n",
      "the cummulation product 1 , 1*2 , 1*2*3   = [ 1  2  6 24]\n"
     ]
    }
   ],
   "source": [
    "import numpy as np\n",
    "import math\n",
    "arr=np.array([1,2,3,4])   #the result is like this behind the scene 1*2*3*4=24 \n",
    "print(np.prod(arr))\n",
    "\n",
    "a=np.array([1,2,3,4])\n",
    "b=np.array([4,3,1,2])\n",
    "print(\"two array product like this 1*2*3*4*4*3*1*2=\" , np.prod([a , b]))\n",
    "print(\"two array product like this 1*2*3*4= 4*3*1*2 both sperate value= \" , np.prod([a , b], axis=1)) \n",
    " #cumuulation product \n",
    "print(\"the cummulation product 1 , 1*2 , 1*2*3   =\" , np.cumprod(a))\n",
    "\n"
   ]
  },
  {
   "cell_type": "code",
   "execution_count": 14,
   "id": "2df4fb87",
   "metadata": {},
   "outputs": [
    {
     "name": "stdout",
     "output_type": "stream",
     "text": [
      "[ 1  1 42]\n",
      "result like this 3-2 , 4-3 and so on 1 one delt from 2 ione= [1 1 1 1 0]\n",
      "result like this 3-2 , 4-3 and other array = [ 0  0  0 -1]\n"
     ]
    }
   ],
   "source": [
    " # A discrete difference means subtracting two successive elements.\n",
    "# E.g. for [1, 2, 3, 4], the discrete difference would be [2-1, 3-2, 4-3] = [1, 1, 1]\n",
    "# To find the discrete difference, use the diff() function.\n",
    "import numpy as np\n",
    "print(np.diff([1,2,3,45,]))\n",
    "a=np.array([2,3,4,5,6,6])\n",
    "print(\"result like this 3-2 , 4-3 and so on 1 one delt from 2 ione=\" , np.diff(a))\n",
    "print(\"result like this 3-2 , 4-3 and other array =\" , np.diff(a , n=2))\n",
    "# . for [1, 2, 3, 4], the discrete difference with n = 2 would be [2-1, 3-2, 4-3] = [1, 1, 1] , then, since n=2, we will do it once more, with the new result: [1-1, 1-1] = [0, 0]"
   ]
  },
  {
   "cell_type": "code",
   "execution_count": 8,
   "id": "ef5ebf9f",
   "metadata": {},
   "outputs": [
    {
     "name": "stdout",
     "output_type": "stream",
     "text": [
      "these 20 ia the result becoz both have least common multiple is =   20\n",
      "reduce  func is ised to get array in one dimension  180\n",
      "arange use in python to create array from  first index to last but not include the last 2520\n"
     ]
    }
   ],
   "source": [
    "import numpy as np\n",
    "num1=4\n",
    "num2=5    \n",
    "print(\"these 20 ia the result becoz both have least common multiple is =  \" , np.lcm(num1  , num2))\n",
    "\n",
    "arr=np.array([4,5,9])\n",
    "print(\"reduce  func is ised to get array in one dimension \" ,np.lcm.reduce(arr))\n",
    "\n",
    "arr2=np.arange(1 , 11)\n",
    "print(\"arange use in python to create array from  first index to last but not include the last\" ,np.lcm.reduce(arr2))"
   ]
  },
  {
   "cell_type": "code",
   "execution_count": 15,
   "id": "a5698d8f",
   "metadata": {},
   "outputs": [
    {
     "name": "stdout",
     "output_type": "stream",
     "text": [
      "grade common denominator which is divide by both with high common factor = 2\n",
      "1\n",
      "1\n"
     ]
    }
   ],
   "source": [
    "import numpy as np\n",
    "num=4 \n",
    "num2=6\n",
    "print(\"grade common denominator which is divide by both with high common factor =\" , np.gcd(num , num2))\n",
    "arr1=np.array([2 , 43 , 60])\n",
    "arr2=np.arange(1 , 22)\n",
    "print(np.gcd.reduce(arr2))\n",
    "print(np.gcd.reduce(arr1))"
   ]
  },
  {
   "cell_type": "code",
   "execution_count": 20,
   "id": "fc44cfb1",
   "metadata": {},
   "outputs": [
    {
     "name": "stdout",
     "output_type": "stream",
     "text": [
      "0.8660254037844386\n",
      "[1.         0.70710678]\n"
     ]
    }
   ],
   "source": [
    "import numpy as np\n",
    "num=np.sin(np.pi/3)\n",
    "arr=np.array([np.pi/2 , np.pi/4])\n",
    "print(num)\n",
    "print(np.sin(arr))"
   ]
  },
  {
   "cell_type": "code",
   "execution_count": 29,
   "id": "51fb263a",
   "metadata": {},
   "outputs": [
    {
     "name": "stdout",
     "output_type": "stream",
     "text": [
      "1.5707963267948966\n",
      "this is used for array = [1.57079633 3.14159265 4.71238898 6.28318531]\n",
      "4.71238898038469\n",
      "[1.57079633 3.14159265]\n"
     ]
    }
   ],
   "source": [
    "import numpy as np\n",
    "# here we will converet from deg2rad and rad2deg this func is use as i said  commonly in pyhton pi/180*degree=radian as so on\n",
    "num=90\n",
    "arr=np.array([90, 180 , 270 , 360])\n",
    "print(np.deg2rad(num))\n",
    "print(\"this is used for array =\" , np.deg2rad(arr))\n",
    "\n",
    "num1=270\n",
    "arr1=np.array([90 , 180 ])\n",
    "print(np.deg2rad(num1))\n",
    "print(np.deg2rad(arr1))"
   ]
  },
  {
   "cell_type": "code",
   "execution_count": 27,
   "id": "de988530",
   "metadata": {},
   "outputs": [
    {
     "name": "stdout",
     "output_type": "stream",
     "text": [
      "90.0\n"
     ]
    }
   ],
   "source": [
    "import numpy as np\n",
    "#it will convert radian to degree rad2deg \n",
    "num1=np.pi/2\n",
    "print(np.rad2deg(num1))\n"
   ]
  },
  {
   "cell_type": "code",
   "execution_count": 34,
   "id": "80a500e2",
   "metadata": {},
   "outputs": [
    {
     "name": "stdout",
     "output_type": "stream",
     "text": [
      "1.5707963267948966\n",
      "[3.14159265 0.         1.57079633]\n"
     ]
    }
   ],
   "source": [
    "import numpy as np\n",
    "#sin  cos   tang etc the inverse is arcsin arccos()\n",
    "print(np.arcsin(1.0))\n",
    "print(np.arccos(np.array([-1,1 , 0 ])))"
   ]
  },
  {
   "cell_type": "code",
   "execution_count": 35,
   "id": "f3b65179",
   "metadata": {},
   "outputs": [
    {
     "name": "stdout",
     "output_type": "stream",
     "text": [
      "41.7612260356422\n"
     ]
    }
   ],
   "source": [
    "# Finding hypotenues using pythagoras theorem in NumPy.\n",
    "\n",
    "# NumPy provides the hypot() function that takes the base and perpendicular values and produces hypotenues based on pythagoras theorem.\n",
    "import numpy as np\n",
    "#formula hyp sqr =basesqr+ perpensqr\n",
    "base=12\n",
    "per=40\n",
    "print(np.hypot(base , per))"
   ]
  },
  {
   "cell_type": "code",
   "execution_count": 8,
   "id": "b7a05c76",
   "metadata": {},
   "outputs": [
    {
     "name": "stdout",
     "output_type": "stream",
     "text": [
      "[1 2 3 4]\n",
      "[[1 2]\n",
      " [3 4]\n",
      " [4 5]]\n",
      "print//\n",
      " [[[1 2]\n",
      "  [3 4]]\n",
      "\n",
      " [[5 6]\n",
      "  [8 3]]]\n"
     ]
    }
   ],
   "source": [
    "import numpy as np\n",
    "arr=np.array([1,2,3,4])\n",
    "arr1=np.array([[1,2], [3,4], [4,5]])\n",
    "arr2=np.array([[[1,2],[3,4]],[[5,6],[8,3]]])\n",
    "print(arr)\n",
    "print(arr1)\n",
    "print(\"print//\\n\", arr2)"
   ]
  },
  {
   "cell_type": "code",
   "execution_count": 12,
   "id": "6a690c2f",
   "metadata": {},
   "outputs": [
    {
     "data": {
      "text/plain": [
       "array([2, 3, 4, 4, 5, 6], dtype=int8)"
      ]
     },
     "execution_count": 12,
     "metadata": {},
     "output_type": "execute_result"
    }
   ],
   "source": [
    "arr3=np.array([2 ,3,4,4,5,6], dtype=np.int8)\n",
    "# If you are not careful with dtype assignments, you can get unwanted overflow, as such\n",
    "arr3"
   ]
  },
  {
   "cell_type": "code",
   "execution_count": 19,
   "id": "39d7bff4",
   "metadata": {},
   "outputs": [
    {
     "name": "stdout",
     "output_type": "stream",
     "text": [
      "[1 2 3 4 5 6 7 8 9]\n",
      "[ 1.   1.2  1.4  1.6  1.8  2.   2.2  2.4  2.6  2.8  3.   3.2  3.4  3.6\n",
      "  3.8  4.   4.2  4.4  4.6  4.8  5.   5.2  5.4  5.6  5.8  6.   6.2  6.4\n",
      "  6.6  6.8  7.   7.2  7.4  7.6  7.8  8.   8.2  8.4  8.6  8.8  9.   9.2\n",
      "  9.4  9.6  9.8 10.  10.2 10.4 10.6 10.8 11.  11.2 11.4 11.6 11.8 12.\n",
      " 12.2 12.4 12.6 12.8 13.  13.2 13.4 13.6 13.8 14.  14.2 14.4 14.6 14.8\n",
      " 15.  15.2 15.4 15.6 15.8 16.  16.2 16.4 16.6 16.8 17.  17.2 17.4 17.6\n",
      " 17.8 18.  18.2 18.4 18.6 18.8 19.  19.2 19.4 19.6 19.8]\n",
      "[0 1 2 3 4 5 6 7 8 9]\n",
      "[0. 1. 2. 3. 4. 5. 6. 7. 8. 9.]\n"
     ]
    }
   ],
   "source": [
    "arr1=np.arange(10)\n",
    "arr2=np.arange(1 ,10) #step\n",
    "arr3=np.arange(1 , 20 , 0.2)\n",
    "arr4=np.arange(0 , 10 , dtype=float)\n",
    "print(arr2)\n",
    "print(arr3)\n",
    "print(arr1)\n",
    "print(arr4)"
   ]
  },
  {
   "cell_type": "code",
   "execution_count": 21,
   "id": "1796084d",
   "metadata": {},
   "outputs": [
    {
     "data": {
      "text/plain": [
       "array([2.  , 2.25, 2.5 , 2.75, 3.  ])"
      ]
     },
     "execution_count": 21,
     "metadata": {},
     "output_type": "execute_result"
    }
   ],
   "source": [
    "arr=np.linspace(2 ,3 , 5) #linspace work like arange but here linspace use start ,end ,num     num mean how much interval number u want \n",
    "arr"
   ]
  },
  {
   "cell_type": "code",
   "execution_count": 30,
   "id": "e5dd78d7",
   "metadata": {},
   "outputs": [
    {
     "data": {
      "text/plain": [
       "array([2. , 3.6, 5.2, 6.8, 8.4])"
      ]
     },
     "execution_count": 30,
     "metadata": {},
     "output_type": "execute_result"
    }
   ],
   "source": [
    "arr5=np.linspace(2 , 10 ,num=5 , endpoint=False)  #remmebr num will always positive neg will give an error\n",
    "arr5\n"
   ]
  },
  {
   "cell_type": "markdown",
   "id": "c54bb992",
   "metadata": {},
   "source": [
    "# 2D array creating \n",
    "np.eye // np.daig //np.vander"
   ]
  },
  {
   "cell_type": "code",
   "execution_count": 38,
   "id": "fd9ece71",
   "metadata": {},
   "outputs": [
    {
     "name": "stdout",
     "output_type": "stream",
     "text": [
      "[[1. 0. 0. 0.]\n",
      " [0. 1. 0. 0.]\n",
      " [0. 0. 1. 0.]\n",
      " [0. 0. 0. 1.]]\n",
      "[[1. 0. 0.]\n",
      " [0. 1. 0.]]\n",
      "[[1. 0. 0.]\n",
      " [0. 1. 0.]]\n",
      "[[1 0 0]\n",
      " [0 1 0]]\n"
     ]
    }
   ],
   "source": [
    "arr=np.eye(4) # mean 4 row and 4 culnm it will create the identity matrx i=j=1 \n",
    "\n",
    "arr1=np.eye(2,3)\n",
    "arr2=np.eye(2,3 , k=0)\n",
    "arr3=np.eye(2,3 , dtype=int)\n",
    "\n",
    "\n",
    "\n",
    "print(arr)\n",
    "print(arr1)\n",
    "print(arr2)\n",
    "print(arr3)"
   ]
  },
  {
   "cell_type": "code",
   "execution_count": 51,
   "id": "8be1230b",
   "metadata": {},
   "outputs": [
    {
     "name": "stdout",
     "output_type": "stream",
     "text": [
      "[[0 1 2]\n",
      " [3 4 5]\n",
      " [6 7 8]]\n",
      "daignol=  [0 4 8]\n"
     ]
    },
    {
     "data": {
      "text/plain": [
       "array([[0, 1, 0, 0],\n",
       "       [0, 0, 2, 0],\n",
       "       [0, 0, 0, 3],\n",
       "       [0, 0, 0, 0]])"
      ]
     },
     "execution_count": 51,
     "metadata": {},
     "output_type": "execute_result"
    }
   ],
   "source": [
    "arr=np.diag([1,2,3] ,1) #daignal we may write k=1  k>1 positive above daignal increase and viceversa\n",
    "arr2=np.arange(9).reshape(3 ,3)\n",
    "arr3=np.diag(arr2)\n",
    "print(arr2)\n",
    "print(\"daignol= \" , arr3)\n",
    "arr\n"
   ]
  },
  {
   "cell_type": "code",
   "execution_count": 20,
   "id": "65aa9283",
   "metadata": {},
   "outputs": [
    {
     "name": "stdout",
     "output_type": "stream",
     "text": [
      "[[1 4]\n",
      " [2 5]\n",
      " [3 7]]\n",
      "[[1 2 3]\n",
      " [4 5 7]]\n"
     ]
    }
   ],
   "source": [
    "a=np.array([1,2,3])\n",
    "b=np.array([4,5,7])\n",
    "print(np.stack((a, b) , axis=1)) #axis 1 mean that the colunm wise stacked \n",
    "print(np.stack((a,b) , axis=0)) #axis 0 mean stacked row_wised"
   ]
  },
  {
   "cell_type": "code",
   "execution_count": 27,
   "id": "9aa604e9",
   "metadata": {},
   "outputs": [
    {
     "name": "stdout",
     "output_type": "stream",
     "text": [
      "3\n"
     ]
    }
   ],
   "source": [
    "array=np.array([[[1,2],[3,4]], [[2,3] ,[4,5]]])\n",
    "print(array.ndim)\n"
   ]
  },
  {
   "cell_type": "raw",
   "id": "b0c7cbaa",
   "metadata": {},
   "source": [
    "daignol of 2d array"
   ]
  },
  {
   "cell_type": "code",
   "execution_count": 28,
   "id": "986b9c25",
   "metadata": {},
   "outputs": [
    {
     "data": {
      "text/plain": [
       "array([2, 6, 9])"
      ]
     },
     "execution_count": 28,
     "metadata": {},
     "output_type": "execute_result"
    }
   ],
   "source": [
    "array=np.array([[2,3,4],[5,6,7],[7,8,9]])\n",
    "np.diag(array)"
   ]
  },
  {
   "cell_type": "code",
   "execution_count": 33,
   "id": "6e95818e",
   "metadata": {},
   "outputs": [
    {
     "data": {
      "text/plain": [
       "array([[[0, 0, 0],\n",
       "        [0, 0, 0],\n",
       "        [0, 0, 0],\n",
       "        [0, 0, 0]],\n",
       "\n",
       "       [[0, 0, 0],\n",
       "        [0, 0, 0],\n",
       "        [0, 0, 0],\n",
       "        [0, 0, 0]],\n",
       "\n",
       "       [[0, 0, 0],\n",
       "        [0, 0, 0],\n",
       "        [0, 0, 0],\n",
       "        [0, 0, 0]],\n",
       "\n",
       "       [[0, 0, 0],\n",
       "        [0, 0, 0],\n",
       "        [0, 0, 0],\n",
       "        [0, 0, 0]]])"
      ]
     },
     "execution_count": 33,
     "metadata": {},
     "output_type": "execute_result"
    }
   ],
   "source": [
    "np.zeros((2,3))\n",
    "np.zeros(5)\n",
    "np.zeros((4 ,4 ,3), dtype=int)"
   ]
  },
  {
   "cell_type": "code",
   "execution_count": 37,
   "id": "de63acfa",
   "metadata": {},
   "outputs": [
    {
     "name": "stdout",
     "output_type": "stream",
     "text": [
      "[[0. 0.]\n",
      " [0. 0.]]\n",
      "[[0. 0. 0.]\n",
      " [0. 0. 0.]]\n",
      "[(0., 0) (0., 0)]\n"
     ]
    }
   ],
   "source": [
    " b= np.zeros((2,), dtype=[('x', 'float'), ('y', 'int')])\n",
    "print(np.zeros([2,2]))\n",
    "print(np.zeros([2,3]))\n",
    "print(b)"
   ]
  },
  {
   "cell_type": "code",
   "execution_count": 41,
   "id": "73b0e175",
   "metadata": {},
   "outputs": [
    {
     "name": "stdout",
     "output_type": "stream",
     "text": [
      "[3 4 5]\n"
     ]
    }
   ],
   "source": [
    "arr=np.array([2,3,4,4,5,56,6,7])\n",
    "b=arr[:3]\n",
    "b+=1\n",
    "\n",
    "print(b)"
   ]
  },
  {
   "cell_type": "raw",
   "id": "30b37b5d",
   "metadata": {},
   "source": [
    "block"
   ]
  },
  {
   "cell_type": "code",
   "execution_count": 42,
   "id": "42547e37",
   "metadata": {},
   "outputs": [
    {
     "data": {
      "text/plain": [
       "array([1, 2, 3, 4, 5, 4, 5, 6, 6, 7])"
      ]
     },
     "execution_count": 42,
     "metadata": {},
     "output_type": "execute_result"
    }
   ],
   "source": [
    "a=np.array([1,2,3,4,5])\n",
    "b=np.array([4,5,6,6,7])\n",
    "np.block([a ,b])"
   ]
  },
  {
   "cell_type": "code",
   "execution_count": 50,
   "id": "6f716d35",
   "metadata": {},
   "outputs": [
    {
     "data": {
      "text/plain": [
       "array([[1, 1, 1, 1, 1, 1, 0, 0, 0],\n",
       "       [1, 1, 1, 1, 1, 1, 0, 0, 0],\n",
       "       [1, 1, 1, 1, 1, 1, 0, 0, 0]])"
      ]
     },
     "execution_count": 50,
     "metadata": {},
     "output_type": "execute_result"
    }
   ],
   "source": [
    "a=np.zeros((3,3),dtype=int)\n",
    "b=np.ones((3,3), dtype=int)\n",
    "np.block([b,b,a])"
   ]
  },
  {
   "cell_type": "code",
   "execution_count": 51,
   "id": "3f7233f7",
   "metadata": {},
   "outputs": [
    {
     "data": {
      "text/plain": [
       "array([[1, 1, 1, 0, 0, 0],\n",
       "       [1, 1, 1, 0, 0, 0],\n",
       "       [1, 1, 1, 0, 0, 0]])"
      ]
     },
     "execution_count": 51,
     "metadata": {},
     "output_type": "execute_result"
    }
   ],
   "source": [
    "\n",
    "np.block([b,a])  #hstck"
   ]
  },
  {
   "cell_type": "code",
   "execution_count": null,
   "id": "a6da3348",
   "metadata": {},
   "outputs": [],
   "source": []
  },
  {
   "cell_type": "code",
   "execution_count": 53,
   "id": "cdc01f2f",
   "metadata": {},
   "outputs": [
    {
     "data": {
      "text/plain": [
       "array([[0, 0, 0],\n",
       "       [0, 0, 0],\n",
       "       [0, 0, 0],\n",
       "       [1, 1, 1],\n",
       "       [1, 1, 1],\n",
       "       [1, 1, 1]])"
      ]
     },
     "execution_count": 53,
     "metadata": {},
     "output_type": "execute_result"
    }
   ],
   "source": [
    "np.block([[a], [b]])   #vstack"
   ]
  },
  {
   "cell_type": "code",
   "execution_count": 54,
   "id": "a0f5043f",
   "metadata": {},
   "outputs": [
    {
     "data": {
      "text/plain": [
       "array([[[0, 0, 0],\n",
       "        [0, 0, 0],\n",
       "        [0, 0, 0]]])"
      ]
     },
     "execution_count": 54,
     "metadata": {},
     "output_type": "execute_result"
    }
   ],
   "source": [
    "np.block([[[a]]])"
   ]
  },
  {
   "cell_type": "code",
   "execution_count": 57,
   "id": "0eac950c",
   "metadata": {},
   "outputs": [
    {
     "name": "stdout",
     "output_type": "stream",
     "text": [
      "odd number = 1\n",
      "even number = 2\n",
      "odd number = 3\n",
      "even number = 4\n",
      "odd number = 5\n",
      "even number = 6\n",
      "odd number = 7\n",
      "even number = 8\n",
      "odd number = 9\n"
     ]
    }
   ],
   "source": [
    "def message():\n",
    "    for i in range(1 ,10):\n",
    "        if i%2==0:\n",
    "            print(\"even number =\" , i)\n",
    "        else:\n",
    "            print(\"odd number =\" , i)\n",
    "message()"
   ]
  },
  {
   "cell_type": "code",
   "execution_count": 61,
   "id": "acf6b376",
   "metadata": {},
   "outputs": [
    {
     "name": "stdout",
     "output_type": "stream",
     "text": [
      "enter number to checkk prime or composite13\n",
      "prime number = 13\n"
     ]
    }
   ],
   "source": [
    "def prime_number(n):\n",
    "    count=0\n",
    "    for i in range (1 , n+1):\n",
    "        if n%i==0:      #7/1 , 7/2 ....... 7/7 here only two factor truew 1 and 7/7 so \n",
    "            count+=1      #count will be equal to 2 which n divideon 1 and itsself \n",
    "    if count==2:\n",
    "        print(\"prime number =\" ,i)\n",
    "    else:\n",
    "        print(\"composite nmbr\")\n",
    "n=int(input(\"enter number to checkk prime or composite\"))\n",
    "prime_number(n)\n",
    "\n",
    "\n",
    "# #simple way to find\n",
    "# a number n is divide in loop until to 1 to n for example n =7\n",
    "# 1 2 3 4 5 6 7\n",
    "# 7 divide by all 1 to 7 if n divide on 1 and only n mean itself itrs mean that they have count 2 and that is prime number \n",
    "# other wise composite\n",
    "\n",
    "            \n",
    "        \n",
    "         \n",
    "    "
   ]
  },
  {
   "cell_type": "code",
   "execution_count": 67,
   "id": "b6fc09a1",
   "metadata": {},
   "outputs": [
    {
     "data": {
      "text/plain": [
       "array([[0., 0., 1., 1.],\n",
       "       [0., 0., 1., 1.],\n",
       "       [2., 0., 1., 0.],\n",
       "       [0., 4., 0., 1.]])"
      ]
     },
     "execution_count": 67,
     "metadata": {},
     "output_type": "execute_result"
    }
   ],
   "source": [
    "a=np.zeros((2,2))\n",
    "b=np.ones((2,2))\n",
    "c=np.diag((2,4))\n",
    "d=np.eye(2,2)\n",
    "np.block([[a ,b] , [c ,d]])\n",
    "# there are a number of routines to join existing arrays e.g. numpy.vstack, numpy.hstack, and numpy.block. Here is an example of joining four 2-by-2 arrays into a 4-by-4 array using block:\n"
   ]
  },
  {
   "cell_type": "code",
   "execution_count": 86,
   "id": "41175c59",
   "metadata": {},
   "outputs": [
    {
     "name": "stdout",
     "output_type": "stream",
     "text": [
      "[[1. 1. 1.]\n",
      " [1. 1. 1.]\n",
      " [1. 1. 1.]]\n",
      "[[0. 0. 0.]\n",
      " [0. 0. 0.]\n",
      " [0. 0. 0.]]\n",
      "[[10 10 10]\n",
      " [10 10 10]\n",
      " [10 10 10]]\n"
     ]
    }
   ],
   "source": [
    "np.empty((2,2))\n",
    "a=np.ones_like(np.zeros((3,3)))\n",
    "print(a)\n",
    "b=np.zeros_like(a)\n",
    "print(b)\n",
    "c=np.full((3 ,3) , 10)\n",
    "print(c)\n"
   ]
  },
  {
   "cell_type": "code",
   "execution_count": 93,
   "id": "f409fe9a",
   "metadata": {},
   "outputs": [
    {
     "data": {
      "text/plain": [
       "array([0, 1, 2, 3, 4, 5, 6, 7, 8, 9, 0, 1, 2, 3, 4, 5, 6, 7, 8, 9])"
      ]
     },
     "execution_count": 93,
     "metadata": {},
     "output_type": "execute_result"
    }
   ],
   "source": [
    "x=np.arange(10)\n",
    "np.split(x ,5)\n",
    "np.array_split(x,3) #not deepend on size\n",
    "np.tile(x, 2)  #repeate x 2 time "
   ]
  },
  {
   "cell_type": "code",
   "execution_count": 9,
   "id": "1ddf196c",
   "metadata": {},
   "outputs": [
    {
     "data": {
      "text/plain": [
       "array(1)"
      ]
     },
     "execution_count": 9,
     "metadata": {},
     "output_type": "execute_result"
    }
   ],
   "source": [
    "a=np.array([1,2,3,4,5,6,6])\n",
    "a[2:5]\n",
    "a[..., 0]"
   ]
  },
  {
   "cell_type": "raw",
   "id": "9085bc2c",
   "metadata": {},
   "source": [
    "ndarray indexind aDVance"
   ]
  },
  {
   "cell_type": "code",
   "execution_count": 11,
   "id": "63a3d469",
   "metadata": {},
   "outputs": [
    {
     "name": "stdout",
     "output_type": "stream",
     "text": [
      "[1 2 3 4 5 6 7 8 9]\n",
      "[3 4 6]\n",
      "[3 4 6 6]\n"
     ]
    },
    {
     "data": {
      "text/plain": [
       "array([2, 5, 3])"
      ]
     },
     "execution_count": 11,
     "metadata": {},
     "output_type": "execute_result"
    }
   ],
   "source": [
    "import numpy as np\n",
    "a=np.arange(1,10)\n",
    "print(a)\n",
    "print(a[[2,3,5]]) #index of element which we want from array\n",
    "print(a[np.array([2,3,5,5])])\n",
    "\n",
    "\n",
    "b=np.array([[1,2,3],\n",
    "   [4,5,6,],\n",
    "  [4,6,3]])\n",
    "b[[0,1,2],[1,1,2]] #b[row element 1 , elemetn 2 row ] , [ column 1 , element 2]"
   ]
  },
  {
   "cell_type": "code",
   "execution_count": 17,
   "id": "9dd5c407",
   "metadata": {},
   "outputs": [
    {
     "name": "stdout",
     "output_type": "stream",
     "text": [
      "[3 4 5]\n",
      "[-6]\n"
     ]
    }
   ],
   "source": [
    "#boolen indexing\n",
    "b=np.array([[1,2,3],\n",
    "           [4,5,-6]])\n",
    "print(b[b>2])\n",
    "print(b[b<1])"
   ]
  },
  {
   "cell_type": "code",
   "execution_count": 20,
   "id": "20f9107e",
   "metadata": {},
   "outputs": [
    {
     "name": "stdout",
     "output_type": "stream",
     "text": [
      "[[ 2.  3. nan]\n",
      " [ 1. nan  4.]]\n",
      "2\n",
      "(2, 3)\n"
     ]
    }
   ],
   "source": [
    "a=np.array([[2,3,np.nan], [1, np.nan ,4]])\n",
    "print(a)\n",
    "print(a.ndim)\n",
    "print(a.shape)"
   ]
  },
  {
   "cell_type": "code",
   "execution_count": 25,
   "id": "2dc7560d",
   "metadata": {},
   "outputs": [
    {
     "name": "stdout",
     "output_type": "stream",
     "text": [
      "[[ 9  5  7]\n",
      " [ 8 10 10]\n",
      " [ 3  7  6]]\n",
      "<built-in method max of numpy.ndarray object at 0x000002BBDA905390>\n",
      "[ 9 10  7]\n",
      "[3 5 6]\n"
     ]
    }
   ],
   "source": [
    "import random \n",
    "a=np.random.randint(1,11 ,9).reshape(3 ,3)\n",
    "print(a)\n",
    "print(a.max)\n",
    "print(np.max(a , axis=1))\n",
    "print(np.min(a , axis=0))"
   ]
  },
  {
   "cell_type": "code",
   "execution_count": 31,
   "id": "a7f1cfeb",
   "metadata": {},
   "outputs": [
    {
     "ename": "NameError",
     "evalue": "name 'newaxis' is not defined",
     "output_type": "error",
     "traceback": [
      "\u001b[1;31m---------------------------------------------------------------------------\u001b[0m",
      "\u001b[1;31mNameError\u001b[0m                                 Traceback (most recent call last)",
      "Input \u001b[1;32mIn [31]\u001b[0m, in \u001b[0;36m<cell line: 1>\u001b[1;34m()\u001b[0m\n\u001b[1;32m----> 1\u001b[0m \u001b[43mnewaxis\u001b[49m \u001b[38;5;129;01mis\u001b[39;00m \u001b[38;5;28;01mNone\u001b[39;00m\n\u001b[0;32m      2\u001b[0m x\u001b[38;5;241m=\u001b[39mnp\u001b[38;5;241m.\u001b[39marange(\u001b[38;5;241m3\u001b[39m,\u001b[38;5;241m6\u001b[39m)\n\u001b[0;32m      3\u001b[0m x[: , newaxis]\n",
      "\u001b[1;31mNameError\u001b[0m: name 'newaxis' is not defined"
     ]
    }
   ],
   "source": [
    "newaxis is None\n",
    "x=np.arange(3,6)\n",
    "x[: , newaxis]"
   ]
  },
  {
   "cell_type": "code",
   "execution_count": 33,
   "id": "3389c7bb",
   "metadata": {},
   "outputs": [
    {
     "name": "stdout",
     "output_type": "stream",
     "text": [
      "[[ 0  1  2  3  4  5  6]\n",
      " [ 7  8  9 10 11 12 13]\n",
      " [14 15 16 17 18 19 20]\n",
      " [21 22 23 24 25 26 27]\n",
      " [28 29 30 31 32 33 34]]\n",
      "[[False False False False False False False]\n",
      " [False False False False False False False]\n",
      " [False False False False False False False]\n",
      " [ True  True  True  True  True  True  True]\n",
      " [ True  True  True  True  True  True  True]]\n"
     ]
    }
   ],
   "source": [
    "a=np.arange(35).reshape(5 , 7)\n",
    "print(a)\n",
    "b=a>20\n",
    "\n",
    "print(b)"
   ]
  },
  {
   "cell_type": "code",
   "execution_count": 3,
   "id": "af1c9206",
   "metadata": {},
   "outputs": [
    {
     "data": {
      "text/plain": [
       "array([0, 1, 1, 1, 4, 5, 6, 7, 8, 9])"
      ]
     },
     "execution_count": 3,
     "metadata": {},
     "output_type": "execute_result"
    }
   ],
   "source": [
    "import numpy as np\n",
    "a=np.arange(10)\n",
    "a[1:4]=1\n",
    "a"
   ]
  },
  {
   "cell_type": "code",
   "execution_count": 5,
   "id": "bfcf439f",
   "metadata": {},
   "outputs": [
    {
     "ename": "SyntaxError",
     "evalue": "expression cannot contain assignment, perhaps you meant \"==\"? (2371842705.py, line 2)",
     "output_type": "error",
     "traceback": [
      "\u001b[1;36m  Input \u001b[1;32mIn [5]\u001b[1;36m\u001b[0m\n\u001b[1;33m    print(x[2:7] = 1)\u001b[0m\n\u001b[1;37m          ^\u001b[0m\n\u001b[1;31mSyntaxError\u001b[0m\u001b[1;31m:\u001b[0m expression cannot contain assignment, perhaps you meant \"==\"?\n"
     ]
    }
   ],
   "source": [
    "x = np.arange(10)\n",
    "x[2:7] = 1"
   ]
  }
 ],
 "metadata": {
  "kernelspec": {
   "display_name": "Python 3 (ipykernel)",
   "language": "python",
   "name": "python3"
  },
  "language_info": {
   "codemirror_mode": {
    "name": "ipython",
    "version": 3
   },
   "file_extension": ".py",
   "mimetype": "text/x-python",
   "name": "python",
   "nbconvert_exporter": "python",
   "pygments_lexer": "ipython3",
   "version": "3.9.12"
  }
 },
 "nbformat": 4,
 "nbformat_minor": 5
}
