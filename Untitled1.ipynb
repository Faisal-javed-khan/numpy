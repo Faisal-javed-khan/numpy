{
 "cells": [
  {
   "cell_type": "code",
   "execution_count": 5,
   "id": "fc0a2f7f",
   "metadata": {},
   "outputs": [
    {
     "name": "stdout",
     "output_type": "stream",
     "text": [
      "{'name': 'ali', 'last': 'faisal khan'}\n",
      "dict_values(['ali', 'faisal khan'])\n",
      "ali\n",
      "dict_keys(['name', 'last'])\n"
     ]
    }
   ],
   "source": [
    "dic={\"name\":\"ali\" , \"last\":\"faisal khan\"}\n",
    "print(dic)\n",
    "print(dic.values())\n",
    "print(dic[\"name\"])\n",
    "print(dic.keys())"
   ]
  },
  {
   "cell_type": "code",
   "execution_count": null,
   "id": "80e68c40",
   "metadata": {},
   "outputs": [],
   "source": []
  },
  {
   "cell_type": "code",
   "execution_count": 7,
   "id": "7cb940b0",
   "metadata": {},
   "outputs": [
    {
     "name": "stdout",
     "output_type": "stream",
     "text": [
      "faisal fnsdnfm heloo\n",
      " faisal  heloo\n"
     ]
    }
   ],
   "source": [
    "a=\"faisal\"\n",
    "b=\"heloo\"\n",
    "print(f\"{a} fnsdnfm {b}\") #new  version updTE\n",
    "print(\" {}  {}\".format(a , b)) #old version "
   ]
  },
  {
   "cell_type": "code",
   "execution_count": 9,
   "id": "03df4864",
   "metadata": {},
   "outputs": [
    {
     "name": "stdout",
     "output_type": "stream",
     "text": [
      "0 :: one\n",
      "1 :: twi\n",
      "2 :: three\n"
     ]
    }
   ],
   "source": [
    "for i , j in enumerate([\"one\" , \"twi\", \"three\"]):\n",
    "    print(i, '::', j)"
   ]
  },
  {
   "cell_type": "markdown",
   "id": "aec6358e",
   "metadata": {},
   "source": [
    "map(func , iterable numbers)"
   ]
  },
  {
   "cell_type": "code",
   "execution_count": 11,
   "id": "0ed8460c",
   "metadata": {},
   "outputs": [
    {
     "name": "stdout",
     "output_type": "stream",
     "text": [
      "<map object at 0x0000018262C8F400>\n",
      "{1, 4, 9, 16, 25}\n"
     ]
    }
   ],
   "source": [
    "def square(n):\n",
    "    return n*n\n",
    "number=[1,2,3,4,5]\n",
    "result=map(square , number)\n",
    "print(result)\n",
    "print(set(result))"
   ]
  },
  {
   "cell_type": "code",
   "execution_count": 17,
   "id": "0ebaaa7a",
   "metadata": {},
   "outputs": [
    {
     "ename": "TypeError",
     "evalue": "'tuple' object cannot be interpreted as an integer",
     "output_type": "error",
     "traceback": [
      "\u001b[1;31m---------------------------------------------------------------------------\u001b[0m",
      "\u001b[1;31mTypeError\u001b[0m                                 Traceback (most recent call last)",
      "Input \u001b[1;32mIn [17]\u001b[0m, in \u001b[0;36m<cell line: 7>\u001b[1;34m()\u001b[0m\n\u001b[0;32m      5\u001b[0m         \u001b[38;5;28;01mreturn\u001b[39;00m \u001b[38;5;28;01mFalse\u001b[39;00m\n\u001b[0;32m      6\u001b[0m number\u001b[38;5;241m=\u001b[39m(\u001b[38;5;241m1\u001b[39m,\u001b[38;5;241m2\u001b[39m,\u001b[38;5;241m3\u001b[39m,\u001b[38;5;241m4\u001b[39m,\u001b[38;5;241m5\u001b[39m,\u001b[38;5;241m5\u001b[39m,\u001b[38;5;241m6\u001b[39m,\u001b[38;5;241m6\u001b[39m,\u001b[38;5;241m7\u001b[39m,\u001b[38;5;241m7\u001b[39m,\u001b[38;5;241m8\u001b[39m)\n\u001b[1;32m----> 7\u001b[0m \u001b[38;5;28;01mfor\u001b[39;00m i \u001b[38;5;129;01min\u001b[39;00m \u001b[38;5;28;43mrange\u001b[39;49m\u001b[43m(\u001b[49m\u001b[43mnumber\u001b[49m\u001b[43m)\u001b[49m:\n\u001b[0;32m      9\u001b[0m     result\u001b[38;5;241m=\u001b[39m\u001b[38;5;28mmap\u001b[39m(isEven, number)\n\u001b[0;32m     10\u001b[0m     \u001b[38;5;28mprint\u001b[39m(result)  \n",
      "\u001b[1;31mTypeError\u001b[0m: 'tuple' object cannot be interpreted as an integer"
     ]
    }
   ],
   "source": [
    "def isEven(n):\n",
    "    if n%2==0:\n",
    "        return True\n",
    "    else:\n",
    "        return False\n",
    "number=(1,2,3,4,5,5,6,6,7,7,8)\n",
    "for i in range(number):\n",
    "    \n",
    "    result=map(isEven, number)\n",
    "    print(result)  \n",
    "print(set(result))"
   ]
  },
  {
   "cell_type": "code",
   "execution_count": null,
   "id": "45ca24e1",
   "metadata": {},
   "outputs": [],
   "source": []
  },
  {
   "cell_type": "code",
   "execution_count": 24,
   "id": "41756e72",
   "metadata": {},
   "outputs": [
    {
     "name": "stdout",
     "output_type": "stream",
     "text": [
      "<zip object at 0x000001826341F140>\n",
      "{(4, 'hi'), (2, 'ali'), (3, 'helo')}\n"
     ]
    }
   ],
   "source": [
    "a=[2,3,4]\n",
    "b=[\"ali\", \"helo\" , \"hi\" , \"kilo\"]\n",
    "result=zip(a,b)b\n",
    "print(result)\n",
    "\n",
    "print(set(result))"
   ]
  },
  {
   "cell_type": "code",
   "execution_count": 27,
   "id": "ce8ee5f4",
   "metadata": {},
   "outputs": [
    {
     "name": "stdout",
     "output_type": "stream",
     "text": [
      "total = 90\n"
     ]
    }
   ],
   "source": [
    "s=0\n",
    "for i in range(1 , 20):\n",
    "    if i%2==0:\n",
    "        s=s+i\n",
    " \n",
    "print(\"total =\" ,s)"
   ]
  },
  {
   "cell_type": "code",
   "execution_count": 33,
   "id": "fac02d69",
   "metadata": {},
   "outputs": [
    {
     "name": "stdout",
     "output_type": "stream",
     "text": [
      "45\n"
     ]
    }
   ],
   "source": [
    "s=0\n",
    "for i in range(1 ,10):\n",
    "    s=s+i\n",
    "print(s)"
   ]
  }
 ],
 "metadata": {
  "kernelspec": {
   "display_name": "Python 3 (ipykernel)",
   "language": "python",
   "name": "python3"
  },
  "language_info": {
   "codemirror_mode": {
    "name": "ipython",
    "version": 3
   },
   "file_extension": ".py",
   "mimetype": "text/x-python",
   "name": "python",
   "nbconvert_exporter": "python",
   "pygments_lexer": "ipython3",
   "version": "3.9.12"
  }
 },
 "nbformat": 4,
 "nbformat_minor": 5
}
